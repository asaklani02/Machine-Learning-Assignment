{
  "nbformat": 4,
  "nbformat_minor": 0,
  "metadata": {
    "colab": {
      "provenance": [],
      "authorship_tag": "ABX9TyOt2SNojneyMqG/hiXX8NI8",
      "include_colab_link": true
    },
    "kernelspec": {
      "name": "python3",
      "display_name": "Python 3"
    },
    "language_info": {
      "name": "python"
    }
  },
  "cells": [
    {
      "cell_type": "markdown",
      "metadata": {
        "id": "view-in-github",
        "colab_type": "text"
      },
      "source": [
        "<a href=\"https://colab.research.google.com/github/asaklani02/Machine-Learning-Assignment/blob/main/Cnn_classification.ipynb\" target=\"_parent\"><img src=\"https://colab.research.google.com/assets/colab-badge.svg\" alt=\"Open In Colab\"/></a>"
      ]
    },
    {
      "cell_type": "code",
      "execution_count": 64,
      "metadata": {
        "id": "a8ywqptsERgf"
      },
      "outputs": [],
      "source": [
        "import numpy as np\n",
        "import tensorflow as tf\n",
        "from tensorflow import keras\n",
        "from keras.models import Sequential\n",
        "import pandas as pd\n",
        "from matplotlib import pyplot as plt\n",
        "%matplotlib inline\n",
        "import os\n",
        "import cv2\n",
        "from keras.layers import Dense, Conv2D, MaxPooling2D, Flatten,GlobalAveragePooling2D\n",
        "from PIL import Image\n",
        "from sklearn.preprocessing import LabelEncoder\n",
        "from sklearn.metrics import confusion_matrix, classification_report"
      ]
    },
    {
      "cell_type": "code",
      "source": [
        "#Define training and test paths\n",
        "from google.colab import drive\n",
        "drive.mount('/content/gdrive')\n",
        "train_path= \"/content/gdrive/MyDrive/Colab Notebooks/train_val\"\n",
        "test_path = \"/content/gdrive/MyDrive/Colab Notebooks/test\"\n",
        "\n",
        "from google.colab import files\n",
        "data_to_load = files.upload()\n",
        "import io\n",
        "train_title = pd.read_csv(io.BytesIO(data_to_load['train_v.csv']))"
      ],
      "metadata": {
        "colab": {
          "base_uri": "https://localhost:8080/",
          "height": 91
        },
        "id": "d2WLA4VoEVrV",
        "outputId": "7bcde3eb-4534-4b3b-dadd-3da475503f07"
      },
      "execution_count": 65,
      "outputs": [
        {
          "output_type": "stream",
          "name": "stdout",
          "text": [
            "Drive already mounted at /content/gdrive; to attempt to forcibly remount, call drive.mount(\"/content/gdrive\", force_remount=True).\n"
          ]
        },
        {
          "output_type": "display_data",
          "data": {
            "text/plain": [
              "<IPython.core.display.HTML object>"
            ],
            "text/html": [
              "\n",
              "     <input type=\"file\" id=\"files-9c0de886-72ad-4ac1-844c-bd00509c1062\" name=\"files[]\" multiple disabled\n",
              "        style=\"border:none\" />\n",
              "     <output id=\"result-9c0de886-72ad-4ac1-844c-bd00509c1062\">\n",
              "      Upload widget is only available when the cell has been executed in the\n",
              "      current browser session. Please rerun this cell to enable.\n",
              "      </output>\n",
              "      <script>// Copyright 2017 Google LLC\n",
              "//\n",
              "// Licensed under the Apache License, Version 2.0 (the \"License\");\n",
              "// you may not use this file except in compliance with the License.\n",
              "// You may obtain a copy of the License at\n",
              "//\n",
              "//      http://www.apache.org/licenses/LICENSE-2.0\n",
              "//\n",
              "// Unless required by applicable law or agreed to in writing, software\n",
              "// distributed under the License is distributed on an \"AS IS\" BASIS,\n",
              "// WITHOUT WARRANTIES OR CONDITIONS OF ANY KIND, either express or implied.\n",
              "// See the License for the specific language governing permissions and\n",
              "// limitations under the License.\n",
              "\n",
              "/**\n",
              " * @fileoverview Helpers for google.colab Python module.\n",
              " */\n",
              "(function(scope) {\n",
              "function span(text, styleAttributes = {}) {\n",
              "  const element = document.createElement('span');\n",
              "  element.textContent = text;\n",
              "  for (const key of Object.keys(styleAttributes)) {\n",
              "    element.style[key] = styleAttributes[key];\n",
              "  }\n",
              "  return element;\n",
              "}\n",
              "\n",
              "// Max number of bytes which will be uploaded at a time.\n",
              "const MAX_PAYLOAD_SIZE = 100 * 1024;\n",
              "\n",
              "function _uploadFiles(inputId, outputId) {\n",
              "  const steps = uploadFilesStep(inputId, outputId);\n",
              "  const outputElement = document.getElementById(outputId);\n",
              "  // Cache steps on the outputElement to make it available for the next call\n",
              "  // to uploadFilesContinue from Python.\n",
              "  outputElement.steps = steps;\n",
              "\n",
              "  return _uploadFilesContinue(outputId);\n",
              "}\n",
              "\n",
              "// This is roughly an async generator (not supported in the browser yet),\n",
              "// where there are multiple asynchronous steps and the Python side is going\n",
              "// to poll for completion of each step.\n",
              "// This uses a Promise to block the python side on completion of each step,\n",
              "// then passes the result of the previous step as the input to the next step.\n",
              "function _uploadFilesContinue(outputId) {\n",
              "  const outputElement = document.getElementById(outputId);\n",
              "  const steps = outputElement.steps;\n",
              "\n",
              "  const next = steps.next(outputElement.lastPromiseValue);\n",
              "  return Promise.resolve(next.value.promise).then((value) => {\n",
              "    // Cache the last promise value to make it available to the next\n",
              "    // step of the generator.\n",
              "    outputElement.lastPromiseValue = value;\n",
              "    return next.value.response;\n",
              "  });\n",
              "}\n",
              "\n",
              "/**\n",
              " * Generator function which is called between each async step of the upload\n",
              " * process.\n",
              " * @param {string} inputId Element ID of the input file picker element.\n",
              " * @param {string} outputId Element ID of the output display.\n",
              " * @return {!Iterable<!Object>} Iterable of next steps.\n",
              " */\n",
              "function* uploadFilesStep(inputId, outputId) {\n",
              "  const inputElement = document.getElementById(inputId);\n",
              "  inputElement.disabled = false;\n",
              "\n",
              "  const outputElement = document.getElementById(outputId);\n",
              "  outputElement.innerHTML = '';\n",
              "\n",
              "  const pickedPromise = new Promise((resolve) => {\n",
              "    inputElement.addEventListener('change', (e) => {\n",
              "      resolve(e.target.files);\n",
              "    });\n",
              "  });\n",
              "\n",
              "  const cancel = document.createElement('button');\n",
              "  inputElement.parentElement.appendChild(cancel);\n",
              "  cancel.textContent = 'Cancel upload';\n",
              "  const cancelPromise = new Promise((resolve) => {\n",
              "    cancel.onclick = () => {\n",
              "      resolve(null);\n",
              "    };\n",
              "  });\n",
              "\n",
              "  // Wait for the user to pick the files.\n",
              "  const files = yield {\n",
              "    promise: Promise.race([pickedPromise, cancelPromise]),\n",
              "    response: {\n",
              "      action: 'starting',\n",
              "    }\n",
              "  };\n",
              "\n",
              "  cancel.remove();\n",
              "\n",
              "  // Disable the input element since further picks are not allowed.\n",
              "  inputElement.disabled = true;\n",
              "\n",
              "  if (!files) {\n",
              "    return {\n",
              "      response: {\n",
              "        action: 'complete',\n",
              "      }\n",
              "    };\n",
              "  }\n",
              "\n",
              "  for (const file of files) {\n",
              "    const li = document.createElement('li');\n",
              "    li.append(span(file.name, {fontWeight: 'bold'}));\n",
              "    li.append(span(\n",
              "        `(${file.type || 'n/a'}) - ${file.size} bytes, ` +\n",
              "        `last modified: ${\n",
              "            file.lastModifiedDate ? file.lastModifiedDate.toLocaleDateString() :\n",
              "                                    'n/a'} - `));\n",
              "    const percent = span('0% done');\n",
              "    li.appendChild(percent);\n",
              "\n",
              "    outputElement.appendChild(li);\n",
              "\n",
              "    const fileDataPromise = new Promise((resolve) => {\n",
              "      const reader = new FileReader();\n",
              "      reader.onload = (e) => {\n",
              "        resolve(e.target.result);\n",
              "      };\n",
              "      reader.readAsArrayBuffer(file);\n",
              "    });\n",
              "    // Wait for the data to be ready.\n",
              "    let fileData = yield {\n",
              "      promise: fileDataPromise,\n",
              "      response: {\n",
              "        action: 'continue',\n",
              "      }\n",
              "    };\n",
              "\n",
              "    // Use a chunked sending to avoid message size limits. See b/62115660.\n",
              "    let position = 0;\n",
              "    do {\n",
              "      const length = Math.min(fileData.byteLength - position, MAX_PAYLOAD_SIZE);\n",
              "      const chunk = new Uint8Array(fileData, position, length);\n",
              "      position += length;\n",
              "\n",
              "      const base64 = btoa(String.fromCharCode.apply(null, chunk));\n",
              "      yield {\n",
              "        response: {\n",
              "          action: 'append',\n",
              "          file: file.name,\n",
              "          data: base64,\n",
              "        },\n",
              "      };\n",
              "\n",
              "      let percentDone = fileData.byteLength === 0 ?\n",
              "          100 :\n",
              "          Math.round((position / fileData.byteLength) * 100);\n",
              "      percent.textContent = `${percentDone}% done`;\n",
              "\n",
              "    } while (position < fileData.byteLength);\n",
              "  }\n",
              "\n",
              "  // All done.\n",
              "  yield {\n",
              "    response: {\n",
              "      action: 'complete',\n",
              "    }\n",
              "  };\n",
              "}\n",
              "\n",
              "scope.google = scope.google || {};\n",
              "scope.google.colab = scope.google.colab || {};\n",
              "scope.google.colab._files = {\n",
              "  _uploadFiles,\n",
              "  _uploadFilesContinue,\n",
              "};\n",
              "})(self);\n",
              "</script> "
            ]
          },
          "metadata": {}
        },
        {
          "output_type": "stream",
          "name": "stdout",
          "text": [
            "Saving train_v.csv to train_v (2).csv\n"
          ]
        }
      ]
    },
    {
      "cell_type": "code",
      "source": [
        "image_train = []\n",
        "titles = []\n",
        "for image_file in os.listdir(train_path):\n",
        "    if image_file.endswith('.png'):\n",
        "        \n",
        "        #Resizing the image\n",
        "        image = cv2.imread(os.path.join(train_path, image_file))\n",
        "        image = cv2.resize(image, (128, 128))\n",
        "        image = cv2.cvtColor(image, cv2.COLOR_BGR2RGB)\n",
        "\n",
        "        img_arr = np.array(image)\n",
        "\n",
        "        image_train.append(img_arr)\n",
        "        titles.append(image_file)\n",
        "\n",
        "#String to numerical \n",
        "le = LabelEncoder()\n",
        "titles = le.fit_transform(titles)\n",
        "\n",
        "# Creating NumPy arrays for the training images and titles lists\n",
        "image_train = np.array(image_train)\n",
        "titles = np.array(titles)\n",
        "\n",
        "# Saving the arrays in the Numpy Format\n",
        "np.save('x_train.npy', image_train)\n",
        "np.save('y_train.npy', titles)\n",
        "\n",
        "x_train = np.load('x_train.npy')\n",
        "y_train = np.load('y_train.npy')"
      ],
      "metadata": {
        "id": "vwhw2MwiEZBk"
      },
      "execution_count": 66,
      "outputs": []
    },
    {
      "cell_type": "code",
      "source": [
        "x_train.shape,  y_train.shape"
      ],
      "metadata": {
        "colab": {
          "base_uri": "https://localhost:8080/"
        },
        "id": "KZhxdajtEcqK",
        "outputId": "5730f209-e00a-4cfb-d055-724f5c10809d"
      },
      "execution_count": 67,
      "outputs": [
        {
          "output_type": "execute_result",
          "data": {
            "text/plain": [
              "((1000, 128, 128, 3), (1000,))"
            ]
          },
          "metadata": {},
          "execution_count": 67
        }
      ]
    },
    {
      "cell_type": "code",
      "source": [
        "x_train[:5]\n",
        "y_train[:5]"
      ],
      "metadata": {
        "colab": {
          "base_uri": "https://localhost:8080/"
        },
        "id": "fjL3y87wEhGD",
        "outputId": "582fd608-0ee4-4d10-ffba-7b21dd63a27f"
      },
      "execution_count": 68,
      "outputs": [
        {
          "output_type": "execute_result",
          "data": {
            "text/plain": [
              "array([ 8,  7,  9,  1, 10])"
            ]
          },
          "metadata": {},
          "execution_count": 68
        }
      ]
    },
    {
      "cell_type": "code",
      "source": [
        "image_val = []\n",
        "titles = []\n",
        "for image_file in os.listdir(test_path):\n",
        "    if image_file.endswith('.png'):\n",
        "        # Resizing the image\n",
        "        image = cv2.imread(os.path.join(test_path, image_file))\n",
        "        image = cv2.resize(image, (128, 128))\n",
        "        image = cv2.cvtColor(image, cv2.COLOR_BGR2RGB)\n",
        "\n",
        "        img_arr = np.array(image)\n",
        "\n",
        "        image_val.append(img_arr)\n",
        "        titles.append(image_file)\n",
        "\n",
        "#String to numerical \n",
        "le = LabelEncoder()\n",
        "titles = le.fit_transform(titles)\n",
        "\n",
        "# Creating NumPy arrays for the training images and titles lists\n",
        "image_val = np.array(image_val)\n",
        "titles = np.array(titles)\n",
        "\n",
        "# Saving the arrays in the Numpy Format\n",
        "np.save('x_test.npy', image_val)\n",
        "np.save('y_test.npy', titles)\n",
        "\n",
        "x_test = np.load('x_test.npy')\n",
        "y_test = np.load('y_test.npy')"
      ],
      "metadata": {
        "id": "srMsuwCaEoB-"
      },
      "execution_count": 69,
      "outputs": []
    },
    {
      "cell_type": "code",
      "source": [
        "x_test.shape"
      ],
      "metadata": {
        "colab": {
          "base_uri": "https://localhost:8080/"
        },
        "id": "TBc7X1a3FYTe",
        "outputId": "0e29929b-0293-44cb-e464-68029a451727"
      },
      "execution_count": 70,
      "outputs": [
        {
          "output_type": "execute_result",
          "data": {
            "text/plain": [
              "(50, 128, 128, 3)"
            ]
          },
          "metadata": {},
          "execution_count": 70
        }
      ]
    },
    {
      "cell_type": "code",
      "source": [
        "#Loaded images\n",
        "plt.figure(figsize = (5,2))\n",
        "plt.imshow(x_train[200])"
      ],
      "metadata": {
        "colab": {
          "base_uri": "https://localhost:8080/",
          "height": 236
        },
        "id": "Rva-MFsQFaMk",
        "outputId": "27197f8f-7883-448b-d16f-9ceaf0371226"
      },
      "execution_count": 71,
      "outputs": [
        {
          "output_type": "execute_result",
          "data": {
            "text/plain": [
              "<matplotlib.image.AxesImage at 0x7f2c816592a0>"
            ]
          },
          "metadata": {},
          "execution_count": 71
        },
        {
          "output_type": "display_data",
          "data": {
            "text/plain": [
              "<Figure size 500x200 with 1 Axes>"
            ],
            "image/png": "[encoded data removed]"
          },
          "metadata": {}
        }
      ]
    },
    {
      "cell_type": "code",
      "source": [
        "plt.figure(figsize = (5,2))\n",
        "plt.imshow(x_train[350])"
      ],
      "metadata": {
        "colab": {
          "base_uri": "https://localhost:8080/",
          "height": 236
        },
        "id": "R0zKUpeaS-Tu",
        "outputId": "6058b8ee-98a0-4d10-c2d6-6f6ada0e83ec"
      },
      "execution_count": 72,
      "outputs": [
        {
          "output_type": "execute_result",
          "data": {
            "text/plain": [
              "<matplotlib.image.AxesImage at 0x7f2c81812b30>"
            ]
          },
          "metadata": {},
          "execution_count": 72
        },
        {
          "output_type": "display_data",
          "data": {
            "text/plain": [
              "<Figure size 500x200 with 1 Axes>"
            ],
            "image/png": "[encoded data removed]"
          },
          "metadata": {}
        }
      ]
    },
    {
      "cell_type": "code",
      "source": [
        "# Define image classes\n",
        "img_class = ['line', 'dot_line', 'hbar_categorical', 'vbar_categorical', 'pie']\n",
        "img_class[0]\n",
        "\n",
        "# Map the titles\n",
        "title_map = {'line': 0, 'dot_line': 1, 'hbar_categorical': 2, 'vbar_categorical': 3, 'pie': 4}\n",
        "y_train = np.array([title_map[label] for label in train_title['type']])\n",
        "\n",
        "y_train.shape, y_test.shape\n"
      ],
      "metadata": {
        "colab": {
          "base_uri": "https://localhost:8080/"
        },
        "id": "265Ct4mxFdq-",
        "outputId": "f13d2793-9f84-4ffc-ca71-35af6e328ddd"
      },
      "execution_count": 73,
      "outputs": [
        {
          "output_type": "execute_result",
          "data": {
            "text/plain": [
              "((1000,), (50,))"
            ]
          },
          "metadata": {},
          "execution_count": 73
        }
      ]
    },
    {
      "cell_type": "code",
      "source": [
        "def img_sample(x, y, index):\n",
        "    plt.figure(figsize = (10,2))\n",
        "    plt.imshow(x[index])\n",
        "    plt.xlabel(img_class[y[index]])"
      ],
      "metadata": {
        "id": "VpXHTyaDFkmU"
      },
      "execution_count": 74,
      "outputs": []
    },
    {
      "cell_type": "code",
      "source": [
        "img_sample(x_train,y_train,0)\n",
        "img_sample(x_train,y_train,200)\n",
        "img_sample(x_train,y_train,350)"
      ],
      "metadata": {
        "colab": {
          "base_uri": "https://localhost:8080/",
          "height": 683
        },
        "id": "q6eJlVmIFm-a",
        "outputId": "9e03c690-3d00-4f7b-b0b6-36f9a50b3708"
      },
      "execution_count": 75,
      "outputs": [
        {
          "output_type": "display_data",
          "data": {
            "text/plain": [
              "<Figure size 1000x200 with 1 Axes>"
            ],
            "image/png": "[encoded data removed]"
          },
          "metadata": {}
        },
        {
          "output_type": "display_data",
          "data": {
            "text/plain": [
              "<Figure size 1000x200 with 1 Axes>"
            ],
            "image/png": "[encoded data removed]"
          },
          "metadata": {}
        },
        {
          "output_type": "display_data",
          "data": {
            "text/plain": [
              "<Figure size 1000x200 with 1 Axes>"
            ],
            "image/png": "[encoded data removed]"
          },
          "metadata": {}
        }
      ]
    },
    {
      "cell_type": "code",
      "source": [
        "#Image Normalization\n",
        "x_train=x_train /255\n",
        "x_test=x_train /255"
      ],
      "metadata": {
        "id": "PNw5sLu4FwWR"
      },
      "execution_count": 76,
      "outputs": []
    },
    {
      "cell_type": "code",
      "source": [
        "x_test.shape"
      ],
      "metadata": {
        "colab": {
          "base_uri": "https://localhost:8080/"
        },
        "id": "x-Zbait2FysW",
        "outputId": "e761003c-b4d3-4963-d728-d338d1e2579e"
      },
      "execution_count": 77,
      "outputs": [
        {
          "output_type": "execute_result",
          "data": {
            "text/plain": [
              "(1000, 128, 128, 3)"
            ]
          },
          "metadata": {},
          "execution_count": 77
        }
      ]
    },
    {
      "cell_type": "code",
      "source": [
        "y_train_index = train_title['image_index']\n",
        "y_train_type = train_title['type']"
      ],
      "metadata": {
        "id": "6BSGVGQpF4T8"
      },
      "execution_count": 78,
      "outputs": []
    },
    {
      "cell_type": "code",
      "source": [
        "y_train_type[:5]"
      ],
      "metadata": {
        "colab": {
          "base_uri": "https://localhost:8080/"
        },
        "id": "j9JOJ64gF6Y2",
        "outputId": "9bcbde95-98f4-4a55-c2a1-586e1e2532f2"
      },
      "execution_count": 79,
      "outputs": [
        {
          "output_type": "execute_result",
          "data": {
            "text/plain": [
              "0    vbar_categorical\n",
              "1    vbar_categorical\n",
              "2    vbar_categorical\n",
              "3    vbar_categorical\n",
              "4    vbar_categorical\n",
              "Name: type, dtype: object"
            ]
          },
          "metadata": {},
          "execution_count": 79
        }
      ]
    },
    {
      "cell_type": "code",
      "source": [
        "#Creating Neural Network\n",
        "nn = Sequential([\n",
        "    Flatten(input_shape=(128,128,3)),Dense(3000, activation='relu'),\n",
        "    Dense(1000, activation='relu'),\n",
        "    Dense(5, activation='softmax')\n",
        "])\n",
        "# Neural Network compilation\n",
        "nn.compile(optimizer='SGD', loss='sparse_categorical_crossentropy', metrics=['accuracy'])\n",
        "nn.fit(x_train,y_train,epochs=10)"
      ],
      "metadata": {
        "colab": {
          "base_uri": "https://localhost:8080/"
        },
        "id": "XzImdSWtF9TT",
        "outputId": "bba17caa-a00c-4b31-8e01-a546989d4cc0"
      },
      "execution_count": 80,
      "outputs": [
        {
          "output_type": "stream",
          "name": "stdout",
          "text": [
            "Epoch 1/10\n",
            "32/32 [==============================] - 41s 1s/step - loss: 6.6065 - accuracy: 0.2220\n",
            "Epoch 2/10\n",
            "32/32 [==============================] - 32s 1s/step - loss: 1.6427 - accuracy: 0.1930\n",
            "Epoch 3/10\n",
            "32/32 [==============================] - 34s 1s/step - loss: 1.6002 - accuracy: 0.2480\n",
            "Epoch 4/10\n",
            "32/32 [==============================] - 32s 1s/step - loss: 1.5827 - accuracy: 0.2820\n",
            "Epoch 5/10\n",
            "32/32 [==============================] - 32s 1s/step - loss: 1.5547 - accuracy: 0.2960\n",
            "Epoch 6/10\n",
            "32/32 [==============================] - 32s 1s/step - loss: 1.5543 - accuracy: 0.2920\n",
            "Epoch 7/10\n",
            "32/32 [==============================] - 34s 1s/step - loss: 1.5724 - accuracy: 0.2710\n",
            "Epoch 8/10\n",
            "32/32 [==============================] - 33s 1s/step - loss: 1.5559 - accuracy: 0.2800\n",
            "Epoch 9/10\n",
            "32/32 [==============================] - 32s 1s/step - loss: 1.5846 - accuracy: 0.2420\n",
            "Epoch 10/10\n",
            "32/32 [==============================] - 32s 1s/step - loss: 1.5910 - accuracy: 0.2470\n"
          ]
        },
        {
          "output_type": "execute_result",
          "data": {
            "text/plain": [
              "<keras.callbacks.History at 0x7f2c8143f370>"
            ]
          },
          "metadata": {},
          "execution_count": 80
        }
      ]
    },
    {
      "cell_type": "code",
      "source": [
        "# Train Test split\n",
        "from sklearn.model_selection import train_test_split\n",
        "x_train, x_test, y_train, y_test = train_test_split(x_train, y_train, test_size=0.2, random_state=42)"
      ],
      "metadata": {
        "id": "3wjM2n02GN8J"
      },
      "execution_count": 81,
      "outputs": []
    },
    {
      "cell_type": "code",
      "source": [
        "nn.evaluate(x_test,y_test)"
      ],
      "metadata": {
        "colab": {
          "base_uri": "https://localhost:8080/"
        },
        "id": "aVmIIZa4Ge3f",
        "outputId": "9437eff4-7fb2-4350-d458-90d00d5be65b"
      },
      "execution_count": 82,
      "outputs": [
        {
          "output_type": "stream",
          "name": "stdout",
          "text": [
            "7/7 [==============================] - 2s 265ms/step - loss: 1.6089 - accuracy: 0.2200\n"
          ]
        },
        {
          "output_type": "execute_result",
          "data": {
            "text/plain": [
              "[1.6089386940002441, 0.2199999988079071]"
            ]
          },
          "metadata": {},
          "execution_count": 82
        }
      ]
    },
    {
      "cell_type": "code",
      "source": [
        "y_pred = nn.predict(x_test)\n",
        "y_pred\n",
        "y_pred_classes = [np.argmax(ele) for ele in y_pred]\n"
      ],
      "metadata": {
        "colab": {
          "base_uri": "https://localhost:8080/"
        },
        "id": "uegtAwYrGiFB",
        "outputId": "2c962670-5dc2-456b-a811-4fe1502c3da3"
      },
      "execution_count": 83,
      "outputs": [
        {
          "output_type": "stream",
          "name": "stdout",
          "text": [
            "7/7 [==============================] - 2s 257ms/step\n"
          ]
        }
      ]
    },
    {
      "cell_type": "code",
      "source": [
        "print(x_train.shape)\n",
        "print(y_train.shape)\n",
        "print(x_test.shape)\n",
        "print(y_test.shape)"
      ],
      "metadata": {
        "colab": {
          "base_uri": "https://localhost:8080/"
        },
        "id": "eZ5saK4-Gqjj",
        "outputId": "a3311f49-f659-4457-df22-06d739fa6d67"
      },
      "execution_count": 84,
      "outputs": [
        {
          "output_type": "stream",
          "name": "stdout",
          "text": [
            "(800, 128, 128, 3)\n",
            "(800,)\n",
            "(200, 128, 128, 3)\n",
            "(200,)\n"
          ]
        }
      ]
    },
    {
      "cell_type": "code",
      "source": [
        "#Creating CNN\n",
        "cnn = Sequential([\n",
        "    Conv2D(filters=16 ,kernel_size=(3,3), activation='relu', input_shape=(128,128,3)),\n",
        "    MaxPooling2D(pool_size=(2,2)),\n",
        "    Conv2D(32, (3,3), activation='relu'),\n",
        "    MaxPooling2D(pool_size=(2,2)),\n",
        "    Conv2D(64, (3,3), activation='relu'),\n",
        "    MaxPooling2D(pool_size=(2,2)),\n",
        "    Flatten(),\n",
        "    Dense(128, activation='relu'),\n",
        "    Dense(5, activation='softmax')\n",
        "])\n",
        "\n",
        "# CNN Compilation\n",
        "cnn.compile(optimizer='adam', loss='sparse_categorical_crossentropy', metrics=['accuracy'])\n",
        "\n",
        "#Train CNN\n",
        "history = cnn.fit(x_train, y_train, batch_size=1000, epochs=50,validation_data=(x_test, y_test))\n",
        "\n",
        "# Plotting the loss of model\n",
        "plt.plot(history.history['loss'])\n",
        "plt.plot(history.history['val_loss'])\n",
        "plt.title('Loss of the model')\n",
        "plt.ylabel('Loss')\n",
        "plt.xlabel('Number of Epoch')\n",
        "plt.legend(['Train data', 'Validation data'], loc='center right')\n",
        "plt.show()"
      ],
      "metadata": {
        "colab": {
          "base_uri": "https://localhost:8080/",
          "height": 1000
        },
        "id": "LAHNGu1sG6nX",
        "outputId": "fab572b9-5579-42a5-b6a2-d02feac0fdf2"
      },
      "execution_count": 85,
      "outputs": [
        {
          "output_type": "stream",
          "name": "stdout",
          "text": [
            "Epoch 1/50\n",
            "1/1 [==============================] - 20s 20s/step - loss: 1.6069 - accuracy: 0.2237 - val_loss: 2.2290 - val_accuracy: 0.1750\n",
            "Epoch 2/50\n",
            "1/1 [==============================] - 16s 16s/step - loss: 2.1194 - accuracy: 0.2412 - val_loss: 1.5900 - val_accuracy: 0.3200\n",
            "Epoch 3/50\n",
            "1/1 [==============================] - 15s 15s/step - loss: 1.6212 - accuracy: 0.3212 - val_loss: 1.6313 - val_accuracy: 0.1850\n",
            "Epoch 4/50\n",
            "1/1 [==============================] - 15s 15s/step - loss: 1.6576 - accuracy: 0.2037 - val_loss: 1.5627 - val_accuracy: 0.3150\n",
            "Epoch 5/50\n",
            "1/1 [==============================] - 16s 16s/step - loss: 1.5859 - accuracy: 0.2925 - val_loss: 1.5281 - val_accuracy: 0.2700\n",
            "Epoch 6/50\n",
            "1/1 [==============================] - 15s 15s/step - loss: 1.5318 - accuracy: 0.2412 - val_loss: 1.5087 - val_accuracy: 0.3350\n",
            "Epoch 7/50\n",
            "1/1 [==============================] - 16s 16s/step - loss: 1.4931 - accuracy: 0.3675 - val_loss: 1.4783 - val_accuracy: 0.3450\n",
            "Epoch 8/50\n",
            "1/1 [==============================] - 15s 15s/step - loss: 1.4524 - accuracy: 0.4038 - val_loss: 1.4296 - val_accuracy: 0.4550\n",
            "Epoch 9/50\n",
            "1/1 [==============================] - 15s 15s/step - loss: 1.4066 - accuracy: 0.5013 - val_loss: 1.3941 - val_accuracy: 0.4700\n",
            "Epoch 10/50\n",
            "1/1 [==============================] - 15s 15s/step - loss: 1.3685 - accuracy: 0.5138 - val_loss: 1.3656 - val_accuracy: 0.4650\n",
            "Epoch 11/50\n",
            "1/1 [==============================] - 15s 15s/step - loss: 1.3325 - accuracy: 0.5150 - val_loss: 1.3288 - val_accuracy: 0.4950\n",
            "Epoch 12/50\n",
            "1/1 [==============================] - 15s 15s/step - loss: 1.2943 - accuracy: 0.5225 - val_loss: 1.2926 - val_accuracy: 0.5000\n",
            "Epoch 13/50\n",
            "1/1 [==============================] - 15s 15s/step - loss: 1.2587 - accuracy: 0.5288 - val_loss: 1.2524 - val_accuracy: 0.5100\n",
            "Epoch 14/50\n",
            "1/1 [==============================] - 15s 15s/step - loss: 1.2184 - accuracy: 0.5437 - val_loss: 1.2015 - val_accuracy: 0.5550\n",
            "Epoch 15/50\n",
            "1/1 [==============================] - 15s 15s/step - loss: 1.1686 - accuracy: 0.5600 - val_loss: 1.1601 - val_accuracy: 0.5950\n",
            "Epoch 16/50\n",
            "1/1 [==============================] - 15s 15s/step - loss: 1.1221 - accuracy: 0.5650 - val_loss: 1.1332 - val_accuracy: 0.6250\n",
            "Epoch 17/50\n",
            "1/1 [==============================] - 16s 16s/step - loss: 1.0827 - accuracy: 0.5987 - val_loss: 1.1139 - val_accuracy: 0.5700\n",
            "Epoch 18/50\n",
            "1/1 [==============================] - 16s 16s/step - loss: 1.0512 - accuracy: 0.5700 - val_loss: 1.1120 - val_accuracy: 0.5950\n",
            "Epoch 19/50\n",
            "1/1 [==============================] - 15s 15s/step - loss: 1.0289 - accuracy: 0.6288 - val_loss: 1.0860 - val_accuracy: 0.5850\n",
            "Epoch 20/50\n",
            "1/1 [==============================] - 14s 14s/step - loss: 1.0036 - accuracy: 0.5850 - val_loss: 1.0869 - val_accuracy: 0.5750\n",
            "Epoch 21/50\n",
            "1/1 [==============================] - 15s 15s/step - loss: 0.9602 - accuracy: 0.6400 - val_loss: 1.0671 - val_accuracy: 0.5750\n",
            "Epoch 22/50\n",
            "1/1 [==============================] - 15s 15s/step - loss: 0.9237 - accuracy: 0.6587 - val_loss: 1.0537 - val_accuracy: 0.5850\n",
            "Epoch 23/50\n",
            "1/1 [==============================] - 15s 15s/step - loss: 0.9147 - accuracy: 0.6488 - val_loss: 1.0870 - val_accuracy: 0.5500\n",
            "Epoch 24/50\n",
            "1/1 [==============================] - 15s 15s/step - loss: 0.9097 - accuracy: 0.6288 - val_loss: 1.1009 - val_accuracy: 0.5900\n",
            "Epoch 25/50\n",
            "1/1 [==============================] - 15s 15s/step - loss: 0.8915 - accuracy: 0.6700 - val_loss: 1.0722 - val_accuracy: 0.5450\n",
            "Epoch 26/50\n",
            "1/1 [==============================] - 15s 15s/step - loss: 0.8535 - accuracy: 0.6900 - val_loss: 1.0471 - val_accuracy: 0.5650\n",
            "Epoch 27/50\n",
            "1/1 [==============================] - 15s 15s/step - loss: 0.8365 - accuracy: 0.6913 - val_loss: 1.0427 - val_accuracy: 0.5800\n",
            "Epoch 28/50\n",
            "1/1 [==============================] - 15s 15s/step - loss: 0.8208 - accuracy: 0.7000 - val_loss: 1.0645 - val_accuracy: 0.5650\n",
            "Epoch 29/50\n",
            "1/1 [==============================] - 15s 15s/step - loss: 0.8047 - accuracy: 0.7038 - val_loss: 1.0473 - val_accuracy: 0.5850\n",
            "Epoch 30/50\n",
            "1/1 [==============================] - 15s 15s/step - loss: 0.7763 - accuracy: 0.7150 - val_loss: 1.0266 - val_accuracy: 0.6050\n",
            "Epoch 31/50\n",
            "1/1 [==============================] - 16s 16s/step - loss: 0.7693 - accuracy: 0.7113 - val_loss: 1.0336 - val_accuracy: 0.6300\n",
            "Epoch 32/50\n",
            "1/1 [==============================] - 16s 16s/step - loss: 0.7517 - accuracy: 0.7237 - val_loss: 1.0507 - val_accuracy: 0.6100\n",
            "Epoch 33/50\n",
            "1/1 [==============================] - 14s 14s/step - loss: 0.7244 - accuracy: 0.7312 - val_loss: 1.0677 - val_accuracy: 0.6400\n",
            "Epoch 34/50\n",
            "1/1 [==============================] - 15s 15s/step - loss: 0.7167 - accuracy: 0.7312 - val_loss: 1.0544 - val_accuracy: 0.6100\n",
            "Epoch 35/50\n",
            "1/1 [==============================] - 15s 15s/step - loss: 0.6958 - accuracy: 0.7437 - val_loss: 1.0486 - val_accuracy: 0.6100\n",
            "Epoch 36/50\n",
            "1/1 [==============================] - 14s 14s/step - loss: 0.6773 - accuracy: 0.7550 - val_loss: 1.0748 - val_accuracy: 0.6150\n",
            "Epoch 37/50\n",
            "1/1 [==============================] - 15s 15s/step - loss: 0.6596 - accuracy: 0.7525 - val_loss: 1.1078 - val_accuracy: 0.6100\n",
            "Epoch 38/50\n",
            "1/1 [==============================] - 15s 15s/step - loss: 0.6479 - accuracy: 0.7638 - val_loss: 1.0972 - val_accuracy: 0.6300\n",
            "Epoch 39/50\n",
            "1/1 [==============================] - 15s 15s/step - loss: 0.6287 - accuracy: 0.7688 - val_loss: 1.1056 - val_accuracy: 0.6000\n",
            "Epoch 40/50\n",
            "1/1 [==============================] - 15s 15s/step - loss: 0.6074 - accuracy: 0.7862 - val_loss: 1.1014 - val_accuracy: 0.6050\n",
            "Epoch 41/50\n",
            "1/1 [==============================] - 15s 15s/step - loss: 0.5871 - accuracy: 0.7900 - val_loss: 1.1042 - val_accuracy: 0.6300\n",
            "Epoch 42/50\n",
            "1/1 [==============================] - 15s 15s/step - loss: 0.5706 - accuracy: 0.8000 - val_loss: 1.1325 - val_accuracy: 0.6200\n",
            "Epoch 43/50\n",
            "1/1 [==============================] - 16s 16s/step - loss: 0.5559 - accuracy: 0.8037 - val_loss: 1.1140 - val_accuracy: 0.6250\n",
            "Epoch 44/50\n",
            "1/1 [==============================] - 16s 16s/step - loss: 0.5394 - accuracy: 0.8062 - val_loss: 1.1198 - val_accuracy: 0.6200\n",
            "Epoch 45/50\n",
            "1/1 [==============================] - 14s 14s/step - loss: 0.5265 - accuracy: 0.8275 - val_loss: 1.1508 - val_accuracy: 0.6400\n",
            "Epoch 46/50\n",
            "1/1 [==============================] - 15s 15s/step - loss: 0.5103 - accuracy: 0.8125 - val_loss: 1.1923 - val_accuracy: 0.5950\n",
            "Epoch 47/50\n",
            "1/1 [==============================] - 20s 20s/step - loss: 0.4991 - accuracy: 0.8188 - val_loss: 1.1412 - val_accuracy: 0.6300\n",
            "Epoch 48/50\n",
            "1/1 [==============================] - 18s 18s/step - loss: 0.4782 - accuracy: 0.8250 - val_loss: 1.1828 - val_accuracy: 0.6250\n",
            "Epoch 49/50\n",
            "1/1 [==============================] - 16s 16s/step - loss: 0.4539 - accuracy: 0.8462 - val_loss: 1.1988 - val_accuracy: 0.6000\n",
            "Epoch 50/50\n",
            "1/1 [==============================] - 15s 15s/step - loss: 0.4337 - accuracy: 0.8587 - val_loss: 1.1963 - val_accuracy: 0.6200\n"
          ]
        },
        {
          "output_type": "display_data",
          "data": {
            "text/plain": [
              "<Figure size 640x480 with 1 Axes>"
            ],
            "image/png": "[encoded data removed]"
          },
          "metadata": {}
        }
      ]
    },
    {
      "cell_type": "code",
      "source": [
        "cnn.evaluate(x_test,y_test)"
      ],
      "metadata": {
        "colab": {
          "base_uri": "https://localhost:8080/"
        },
        "id": "kHb3MDqSG_VJ",
        "outputId": "7c9db0ba-fc28-470e-9394-0655f8d77d39"
      },
      "execution_count": 86,
      "outputs": [
        {
          "output_type": "stream",
          "name": "stdout",
          "text": [
            "7/7 [==============================] - 1s 123ms/step - loss: 1.1963 - accuracy: 0.6200\n"
          ]
        },
        {
          "output_type": "execute_result",
          "data": {
            "text/plain": [
              "[1.1962652206420898, 0.6200000047683716]"
            ]
          },
          "metadata": {},
          "execution_count": 86
        }
      ]
    },
    {
      "cell_type": "code",
      "source": [
        "img_sample(x_test,y_test,1)\n",
        "img_sample(x_test,y_test,50)\n",
        "img_sample(x_test,y_test,25)\n",
        "img_sample(x_test,y_test,30)"
      ],
      "metadata": {
        "colab": {
          "base_uri": "https://localhost:8080/",
          "height": 905
        },
        "id": "F0Ti9FPrHCgb",
        "outputId": "dd2ae4b0-79da-47cd-9aaa-24f7ae30f2b8"
      },
      "execution_count": 87,
      "outputs": [
        {
          "output_type": "display_data",
          "data": {
            "text/plain": [
              "<Figure size 1000x200 with 1 Axes>"
            ],
            "image/png": "[encoded data removed]"
          },
          "metadata": {}
        },
        {
          "output_type": "display_data",
          "data": {
            "text/plain": [
              "<Figure size 1000x200 with 1 Axes>"
            ],
            "image/png": "[encoded data removed]"
          },
          "metadata": {}
        },
        {
          "output_type": "display_data",
          "data": {
            "text/plain": [
              "<Figure size 1000x200 with 1 Axes>"
            ],
            "image/png": "[encoded data removed]"
          },
          "metadata": {}
        },
        {
          "output_type": "display_data",
          "data": {
            "text/plain": [
              "<Figure size 1000x200 with 1 Axes>"
            ],
            "image/png": "[encoded data removed]"
          },
          "metadata": {}
        }
      ]
    },
    {
      "cell_type": "code",
      "source": [
        "y_pred = cnn.predict(x_test)\n",
        "y_pred[:5]"
      ],
      "metadata": {
        "colab": {
          "base_uri": "https://localhost:8080/"
        },
        "id": "6J0gLt0XHFiC",
        "outputId": "f4bc2e1c-c6a8-4acb-fdb1-1c16f88f5cbf"
      },
      "execution_count": 88,
      "outputs": [
        {
          "output_type": "stream",
          "name": "stdout",
          "text": [
            "7/7 [==============================] - 1s 121ms/step\n"
          ]
        },
        {
          "output_type": "execute_result",
          "data": {
            "text/plain": [
              "array([[6.1155242e-01, 1.1615179e-01, 2.4322493e-01, 4.1589467e-03,\n",
              "        2.4911886e-02],\n",
              "       [2.7928017e-02, 6.1082414e-05, 2.1461023e-03, 4.3690222e-04,\n",
              "        9.6942788e-01],\n",
              "       [2.7640516e-01, 8.1100110e-03, 2.4302790e-02, 3.9243367e-02,\n",
              "        6.5193868e-01],\n",
              "       [3.7930675e-02, 1.2842879e-04, 2.0048681e-01, 9.5061649e-04,\n",
              "        7.6050341e-01],\n",
              "       [1.8722050e-01, 4.5083582e-01, 2.6633710e-01, 2.2636551e-02,\n",
              "        7.2970062e-02]], dtype=float32)"
            ]
          },
          "metadata": {},
          "execution_count": 88
        }
      ]
    },
    {
      "cell_type": "code",
      "source": [
        "y_classes = [np.argmax(element) for element in y_pred]\n",
        "y_classes[:5]"
      ],
      "metadata": {
        "colab": {
          "base_uri": "https://localhost:8080/"
        },
        "id": "3m5AcRVLHIxP",
        "outputId": "3f85ec2b-8291-4d7e-afd3-a5e7fd23c7ad"
      },
      "execution_count": 89,
      "outputs": [
        {
          "output_type": "execute_result",
          "data": {
            "text/plain": [
              "[0, 4, 4, 4, 1]"
            ]
          },
          "metadata": {},
          "execution_count": 89
        }
      ]
    },
    {
      "cell_type": "code",
      "source": [
        "y_test[:5]"
      ],
      "metadata": {
        "colab": {
          "base_uri": "https://localhost:8080/"
        },
        "id": "4VbWnFN9HNJH",
        "outputId": "761ccef2-9a11-4cc9-8785-29d9fcdb78bd"
      },
      "execution_count": 90,
      "outputs": [
        {
          "output_type": "execute_result",
          "data": {
            "text/plain": [
              "array([0, 4, 4, 4, 0])"
            ]
          },
          "metadata": {},
          "execution_count": 90
        }
      ]
    },
    {
      "cell_type": "code",
      "source": [
        "img_sample(x_test,y_test,15) #actual\n",
        "img_class[y_classes[15]] #predicted"
      ],
      "metadata": {
        "colab": {
          "base_uri": "https://localhost:8080/",
          "height": 257
        },
        "id": "VzVU4i8kHPfp",
        "outputId": "d95c950e-51c1-4a26-ce6a-86cc70572ded"
      },
      "execution_count": 91,
      "outputs": [
        {
          "output_type": "execute_result",
          "data": {
            "text/plain": [
              "'dot_line'"
            ],
            "application/vnd.google.colaboratory.intrinsic+json": {
              "type": "string"
            }
          },
          "metadata": {},
          "execution_count": 91
        },
        {
          "output_type": "display_data",
          "data": {
            "text/plain": [
              "<Figure size 1000x200 with 1 Axes>"
            ],
            "image/png": "[encoded data removed]"
          },
          "metadata": {}
        }
      ]
    },
    {
      "cell_type": "code",
      "source": [
        "print(classification_report(y_test,y_classes))"
      ],
      "metadata": {
        "colab": {
          "base_uri": "https://localhost:8080/"
        },
        "id": "56mkA9ruHTkH",
        "outputId": "3949c8ce-ab69-4d6d-d7f5-bef72eea1258"
      },
      "execution_count": 92,
      "outputs": [
        {
          "output_type": "stream",
          "name": "stdout",
          "text": [
            "              precision    recall  f1-score   support\n",
            "\n",
            "           0       0.57      0.57      0.57        37\n",
            "           1       0.83      0.86      0.84        44\n",
            "           2       0.65      0.42      0.51        48\n",
            "           3       0.38      0.52      0.44        33\n",
            "           4       0.68      0.74      0.71        38\n",
            "\n",
            "    accuracy                           0.62       200\n",
            "   macro avg       0.62      0.62      0.61       200\n",
            "weighted avg       0.63      0.62      0.62       200\n",
            "\n"
          ]
        }
      ]
    },
    {
      "cell_type": "code",
      "source": [
        "confusion_mat = confusion_matrix(y_test, y_classes)\n",
        "print('Confusion Matrix:')\n",
        "print(confusion_mat)"
      ],
      "metadata": {
        "colab": {
          "base_uri": "https://localhost:8080/"
        },
        "id": "3X6MyiVGHWEE",
        "outputId": "2ee78c50-78d7-46f6-c2f2-c040b74451c2"
      },
      "execution_count": 93,
      "outputs": [
        {
          "output_type": "stream",
          "name": "stdout",
          "text": [
            "Confusion Matrix:\n",
            "[[21  4  0  1 11]\n",
            " [ 1 38  0  4  1]\n",
            " [10  2 20 16  0]\n",
            " [ 2  2 11 17  1]\n",
            " [ 3  0  0  7 28]]\n"
          ]
        }
      ]
    },
    {
      "cell_type": "code",
      "source": [
        "#Confusion matrix\n",
        "import seaborn as sn\n",
        "plt.figure(figsize = (10,10))\n",
        "sn.heatmap(confusion_mat,annot=True)\n",
        "plt.xlabel('Predicted values')\n",
        "plt.ylabel('Actual values')"
      ],
      "metadata": {
        "colab": {
          "base_uri": "https://localhost:8080/",
          "height": 867
        },
        "id": "mfM0m5egHZiX",
        "outputId": "fc809bd1-7e85-44eb-dfac-1717a3a005b9"
      },
      "execution_count": 94,
      "outputs": [
        {
          "output_type": "execute_result",
          "data": {
            "text/plain": [
              "Text(95.72222222222221, 0.5, 'Actual values')"
            ]
          },
          "metadata": {},
          "execution_count": 94
        },
        {
          "output_type": "display_data",
          "data": {
            "text/plain": [
              "<Figure size 1000x1000 with 2 Axes>"
            ],
            "image/png": "[encoded data removed]"
          },
          "metadata": {}
        }
      ]
    },
    {
      "cell_type": "markdown",
      "source": [
        "### Finetune the Model"
      ],
      "metadata": {
        "id": "0jF1N9RFXu62"
      }
    },
    {
      "cell_type": "code",
      "source": [
        "from keras.applications import VGG16\n",
        "from keras.layers import Dense, Dropout, Flatten\n",
        "from keras.models import Model\n",
        "from keras.optimizers import Adam\n",
        "from keras.preprocessing.image import ImageDataGenerator"
      ],
      "metadata": {
        "id": "SNNa-vggX1K1"
      },
      "execution_count": 95,
      "outputs": []
    },
    {
      "cell_type": "code",
      "source": [
        "#Input size of image\n",
        "image_width, image_height = 224, 224"
      ],
      "metadata": {
        "id": "yKM-czr3X6zZ"
      },
      "execution_count": 96,
      "outputs": []
    },
    {
      "cell_type": "code",
      "source": [
        "from google.colab import drive\n",
        "drive.mount('/content/gdrive')\n",
        "train_path = \"/content/gdrive/MyDrive/Colab Notebooks/train_val/\"\n",
        "\n",
        "val_path = \"/content/gdrive/MyDrive/Colab Notebooks/train_val/\"\n"
      ],
      "metadata": {
        "colab": {
          "base_uri": "https://localhost:8080/"
        },
        "id": "w87jdyLoYOQe",
        "outputId": "a033d94c-c568-4d46-a79e-4b97871c99f2"
      },
      "execution_count": 97,
      "outputs": [
        {
          "output_type": "stream",
          "name": "stdout",
          "text": [
            "Drive already mounted at /content/gdrive; to attempt to forcibly remount, call drive.mount(\"/content/gdrive\", force_remount=True).\n"
          ]
        }
      ]
    },
    {
      "cell_type": "code",
      "source": [
        "# VGG16 Model\n",
        "vgg_model = VGG16(weights='imagenet', include_top=False, input_shape=(image_width, image_height, 3))"
      ],
      "metadata": {
        "id": "ppw8NrHjYQjJ"
      },
      "execution_count": 100,
      "outputs": []
    },
    {
      "cell_type": "code",
      "source": [
        "# Layer freeze of pre-trained model\n",
        "for layer in vgg_model.layers:\n",
        "    layer.trainable = False"
      ],
      "metadata": {
        "id": "hkIG_BeiYSZs"
      },
      "execution_count": 99,
      "outputs": []
    },
    {
      "cell_type": "code",
      "source": [
        "# Adding layers\n",
        "x = vgg_model.output\n",
        "x = Flatten()(x)\n",
        "x = Dense(256, activation='relu')(x)\n",
        "x = Dropout(0.5)(x)\n",
        "predictions = Dense(1, activation='sigmoid')(x)"
      ],
      "metadata": {
        "id": "JfweruTeYUDS"
      },
      "execution_count": 101,
      "outputs": []
    },
    {
      "cell_type": "code",
      "source": [
        "# A new model with base as pre-trained model and with addition of layers\n",
        "new_model = Model(inputs=vgg_model.input, outputs=predictions)"
      ],
      "metadata": {
        "id": "cLEg91p5YV9s"
      },
      "execution_count": 102,
      "outputs": []
    },
    {
      "cell_type": "code",
      "source": [
        "# Model compilation with binary cross entropy\n",
        "new_model.compile(loss='binary_crossentropy', optimizer=Adam(lr=1e-5), metrics=['accuracy'])"
      ],
      "metadata": {
        "id": "8scZFEE1YX6j"
      },
      "execution_count": null,
      "outputs": []
    },
    {
      "cell_type": "code",
      "source": [
        "# Data Augumentation\n",
        "train_gen = ImageDataGenerator(\n",
        "    rescale=1./255,\n",
        "    shear_range=0.2,\n",
        "    zoom_range=0.2,\n",
        "    horizontal_flip=True)\n",
        "\n",
        "val_gen = ImageDataGenerator(rescale=1./255)"
      ],
      "metadata": {
        "id": "4QEggZXFYZ8h"
      },
      "execution_count": 104,
      "outputs": []
    },
    {
      "cell_type": "code",
      "source": [
        "batch_size = 16\n",
        "\n",
        "nb_train_samples = 1500\n",
        "nb_val_samples = 300\n",
        "\n",
        "epochs = 12"
      ],
      "metadata": {
        "id": "VouX0OsRYbz1"
      },
      "execution_count": 105,
      "outputs": []
    },
    {
      "cell_type": "code",
      "source": [
        "# Model training with data generators\n",
        "history = new_model.fit(\n",
        "    train_gen.flow_from_directory(train_path, target_size=(image_width, image_height), batch_size=batch_size, class_mode='binary'),\n",
        "    steps_per_epoch=nb_train_samples // batch_size,\n",
        "    epochs=epochs,\n",
        "    validation_data=val_gen.flow_from_directory(val_path, target_size=(image_width, image_height), batch_size=batch_size, class_mode='binary'),\n",
        "    validation_steps=nb_val_samples // batch_size)"
      ],
      "metadata": {
        "id": "uyODeh5mYebi"
      },
      "execution_count": null,
      "outputs": []
    },
    {
      "cell_type": "code",
      "source": [
        "# Model evaluation\n",
        "test_gen = ImageDataGenerator(rescale=1./255)\n",
        "from google.colab import drive\n",
        "drive.mount('/content/gdrive')\n",
        "test_path = \"/content/gdrive/MyDrive/Colab Notebooks/test\""
      ],
      "metadata": {
        "colab": {
          "base_uri": "https://localhost:8080/"
        },
        "id": "bGJ6m5oBYgpM",
        "outputId": "81b1bfc9-5bdf-4a5a-ff8e-82ead5a2339b"
      },
      "execution_count": 107,
      "outputs": [
        {
          "output_type": "stream",
          "name": "stdout",
          "text": [
            "Drive already mounted at /content/gdrive; to attempt to forcibly remount, call drive.mount(\"/content/gdrive\", force_remount=True).\n"
          ]
        }
      ]
    },
    {
      "cell_type": "code",
      "source": [
        "test_generator = test_gen.flow_from_directory(\n",
        "    test_path,\n",
        "    target_size=(image_width, image_height),\n",
        "    batch_size=batch_size,\n",
        "    class_mode='binary')"
      ],
      "metadata": {
        "id": "K7e9qMdFYi9T"
      },
      "execution_count": null,
      "outputs": []
    },
    {
      "cell_type": "code",
      "source": [
        "test_loss, test_accuracy = new_model.evaluate(test_generator, steps=len(test_generator))\n"
      ],
      "metadata": {
        "id": "PLNIhO5mYkmK"
      },
      "execution_count": null,
      "outputs": []
    },
    {
      "cell_type": "code",
      "source": [
        "print('Test accuracy is:', test_accuracy)\n",
        "print('Test loss is:', test_loss)"
      ],
      "metadata": {
        "id": "27byKAHqYmQI"
      },
      "execution_count": null,
      "outputs": []
    }
  ]
}